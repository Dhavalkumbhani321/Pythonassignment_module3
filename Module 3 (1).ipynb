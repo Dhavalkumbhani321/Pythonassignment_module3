{
 "cells": [
  {
   "cell_type": "code",
   "execution_count": 1,
   "id": "361569a0",
   "metadata": {},
   "outputs": [
    {
     "name": "stdout",
     "output_type": "stream",
     "text": [
      "[7, 6, 5, 4, 3, 2, 1]\n"
     ]
    }
   ],
   "source": [
    "# 1).What is List? How will you reverse a list?\n",
    "# --> Lists are used to store multiple items in a single variable.\n",
    "#list is mutable.It is allow to duplicate values.list is ordered sequence\n",
    "#Lists are 4 built-in data types used to store collections of data, the other 3 are Tuple, Set, and Dictionary, all with different qualities and usage.\n",
    "\n",
    "# To reverse a list in python, slice notation with a step value of -1.\n",
    "\n",
    "#example:-\n",
    "\n",
    "l=[1,2,3,4,5,6,7] #create list\n",
    "reversed_list=l[::-1] \n",
    "print(reversed_list) #print list\n"
   ]
  },
  {
   "cell_type": "code",
   "execution_count": 7,
   "id": "8dc01bae",
   "metadata": {},
   "outputs": [
    {
     "data": {
      "text/plain": [
       "{2, 3, 4, 5, 7}"
      ]
     },
     "execution_count": 7,
     "metadata": {},
     "output_type": "execute_result"
    }
   ],
   "source": [
    "#2). How will you remove last object from a list?\n",
    "#--> To remove the last object a list in python you can use the 'pop' method removes and return last elemet from the list.\n",
    "# example:-\n",
    "\n",
    "l={1,2,3,4,5,7,12}\n",
    "l.pop() # using pop method\n",
    "l\n",
    "l.remove(12)\n",
    "l\n",
    "\n",
    "\n",
    "\n"
   ]
  },
  {
   "cell_type": "code",
   "execution_count": 8,
   "id": "53bb7a11",
   "metadata": {},
   "outputs": [
    {
     "data": {
      "text/plain": [
       "25"
      ]
     },
     "execution_count": 8,
     "metadata": {},
     "output_type": "execute_result"
    }
   ],
   "source": [
    "# Suppose list1 is [2, 33, 222, 14, and 25], what is list1 [-1]?\n",
    "l=[2,33,222,14,25] # create list\n",
    "l[-1]\n",
    "\n",
    "#The list1 [-1] is a 25."
   ]
  },
  {
   "cell_type": "code",
   "execution_count": 13,
   "id": "b282125f",
   "metadata": {},
   "outputs": [
    {
     "name": "stdout",
     "output_type": "stream",
     "text": [
      "[1, 2, 3, 25]\n",
      "[1, 2, 3, 4, 5, 6, 12, 16, 17, '4', '5', '7']\n"
     ]
    }
   ],
   "source": [
    "#3).Differentiate between append () and extend () methods?\n",
    "\n",
    "#1).Append method ():-\n",
    "#--> The element passed as an argument is appended to the end of the list.\n",
    "#--> An iterable passed argument appends without any change as a single element to the end of the list.\n",
    "#--> Length of the list increases by 1.\n",
    "#--> For an example:- \n",
    "# single data\n",
    "l=[1,2,3]\n",
    "l.append(25)\n",
    "print(l)\n",
    "\n",
    "\n",
    "#2).Extend method ():-\n",
    "#--> Each element of the iterable passed as an argument gets appended to the end of the list.\n",
    "#-- An iterable passed as an argument will append each of its elements to the end of the list.\n",
    "#--> Length of the list increases by the number of elements in the iterable.\n",
    "#--> For an example:-\n",
    "# multiple data\n",
    "l=[1,2,3,4,5,6,12,16,17]\n",
    "l.extend('457')\n",
    "print(l)"
   ]
  },
  {
   "cell_type": "code",
   "execution_count": 37,
   "id": "74a31356",
   "metadata": {},
   "outputs": [
    {
     "name": "stdout",
     "output_type": "stream",
     "text": [
      "How many numbers: 3\n",
      "Enter number 12\n",
      "Enter number 33\n",
      "Enter number 56\n",
      "Maximum element in the list is : 56 \n",
      "Minimum element in the list is : 12\n"
     ]
    }
   ],
   "source": [
    "#4).Write a Python function to get the largest number, smallest num and sum of all from a list.\n",
    "l = []\n",
    "num = int(input('How many numbers: ')) #To take input from user\n",
    "for n in range(num): #for loop\n",
    "    numbers = int(input('Enter number '))\n",
    "    l.append(numbers)\n",
    "print(\"Maximum element in the list is :\", max(l), \"\\nMinimum element in the list is :\", min(l))   \n",
    "\n",
    "\n",
    " "
   ]
  },
  {
   "cell_type": "code",
   "execution_count": 43,
   "id": "3318ac16",
   "metadata": {},
   "outputs": [
    {
     "name": "stdout",
     "output_type": "stream",
     "text": [
      "The lists are equal. \n",
      "The lists are not equal. \n"
     ]
    }
   ],
   "source": [
    "# 5).How will you compare two lists? \n",
    "#--> To compare two lists in python,it can use the '==' operator.\n",
    "#For an example:-\n",
    "\n",
    "list1=[1,2,3,4,5,6] #same list\n",
    "list2=[1,2,3,4,5,6]\n",
    "if list1==list2: # for loop \n",
    "    print(\"The lists are equal. \")\n",
    "else:\n",
    "    print(\"The lists are not equal. \")\n",
    "    \n",
    "list3=[3,5,67,12] #different list\n",
    "list4=[2,7,12,56]\n",
    "if list3 != list4:\n",
    "    print(\"The lists are not equal. \")\n",
    "else:\n",
    "    print(\"The lists are equal.\")\n"
   ]
  },
  {
   "cell_type": "code",
   "execution_count": 15,
   "id": "5bed7abb",
   "metadata": {},
   "outputs": [
    {
     "name": "stdout",
     "output_type": "stream",
     "text": [
      "2\n"
     ]
    }
   ],
   "source": [
    "# 6). Write a Python program to count the number of strings where the string \n",
    "#length is 2 or more and the first and last character are same from a given \n",
    "#list of strings.\n",
    "\n",
    "def fandl_cha(i): #user define function\n",
    "  ctr = 0\n",
    "\n",
    "  for word in i: #for loop\n",
    "    if len(word) > 1 and word[0] == word[-1]:\n",
    "      ctr += 1\n",
    "  return ctr\n",
    "\n",
    "print(fandl_cha(['abc', 'xyz', 'aba', '1221'])) #print items\n"
   ]
  },
  {
   "cell_type": "code",
   "execution_count": 47,
   "id": "ad347e74",
   "metadata": {},
   "outputs": [
    {
     "name": "stdout",
     "output_type": "stream",
     "text": [
      "{1, 2, 3, 4, 5, 6, 7, 8, 9, 10}\n"
     ]
    }
   ],
   "source": [
    "# 7).Write a Python program to remove duplicates from a list.\n",
    "l = [1,2,3,4,5,6,7,7,8,9,10]\n",
    "\n",
    "dup_items = set() #duplicate value\n",
    "uniq_items = []\n",
    "for a in l: # for loop\n",
    "    if a not in dup_items:\n",
    "        uniq_items.append(a)\n",
    "        dup_items.add(a)\n",
    "\n",
    "print(dup_items)\n",
    "\n",
    "\n",
    "\n",
    "\n"
   ]
  },
  {
   "cell_type": "code",
   "execution_count": 50,
   "id": "76f8faa4",
   "metadata": {},
   "outputs": [
    {
     "name": "stdout",
     "output_type": "stream",
     "text": [
      "list is not empty [1, 2, 3, 4, 5]\n"
     ]
    }
   ],
   "source": [
    "# 8). Write a Python program to check a list is empty or not.\n",
    "l=[1,2,3,4,5]\n",
    "if not l:  # Iif condition\n",
    "    print(\"empty list\")\n",
    "else:\n",
    "    print(\"list is not empty\",l)"
   ]
  },
  {
   "cell_type": "code",
   "execution_count": 15,
   "id": "f1e3c89f",
   "metadata": {},
   "outputs": [
    {
     "name": "stdout",
     "output_type": "stream",
     "text": [
      "True\n",
      "None\n"
     ]
    }
   ],
   "source": [
    "# 9).Write a Python function that takes two lists and returns true if they have at least one common member.\n",
    "\n",
    "def common_value(list1, list2):\n",
    "     result = False\n",
    "     for x in list1: # using for loop\n",
    "         for y in list2:\n",
    "             if x == y:\n",
    "                 result = True\n",
    "                 return result\n",
    "print(common_value([1,2,3,4,5], [5,6,7,8,9]))\n",
    "print(common_value([1,2,3,4,5], [6,7,8,9]))\n",
    "\n"
   ]
  },
  {
   "cell_type": "code",
   "execution_count": 17,
   "id": "cff9f523",
   "metadata": {},
   "outputs": [
    {
     "name": "stdout",
     "output_type": "stream",
     "text": [
      "[1, 4, 9, 16, 25]\n",
      "[256, 289, 324, 361, 400]\n"
     ]
    }
   ],
   "source": [
    "# 10). Write a Python program to generate and print a list of first and last 5 \n",
    "#elements where the values are square of numbers between 1 and 30.\n",
    "\n",
    "def printitems(): # define function\n",
    "    l = list()\n",
    "    for i in range(1,21): # for loop\n",
    "      l.append(i**2) # using append method\n",
    "    print(l[:5])\n",
    "    print(l[-5:])\n",
    "\n",
    "printitems()\n"
   ]
  },
  {
   "cell_type": "code",
   "execution_count": 19,
   "id": "a04e52ee",
   "metadata": {},
   "outputs": [
    {
     "name": "stdout",
     "output_type": "stream",
     "text": [
      "[1, 2, 5, 7, 10, 12, 15]\n"
     ]
    }
   ],
   "source": [
    "# 11).Write a Python function that takes a list and returns a new list with unique elements of the first list.\n",
    "\n",
    "def unique_list(l):\n",
    "  i = []\n",
    "  for a in l:\n",
    "    if a not in i: # if condition\n",
    "      i.append(a) # using append method\n",
    "  return i\n",
    "\n",
    "print(unique_list([1,2,5,5,5,7,7,10,12,15])) \n",
    "\n",
    " "
   ]
  },
  {
   "cell_type": "code",
   "execution_count": 23,
   "id": "950991e8",
   "metadata": {},
   "outputs": [
    {
     "name": "stdout",
     "output_type": "stream",
     "text": [
      "abcd\n"
     ]
    }
   ],
   "source": [
    "#12).Write a Python program to convert a list of characters into a string.\n",
    "\n",
    "s = ['a', 'b', 'c', 'd'] # create list\n",
    "str1 = ''.join(s) # join method\n",
    "print(str1)\n"
   ]
  },
  {
   "cell_type": "code",
   "execution_count": 25,
   "id": "70d35248",
   "metadata": {},
   "outputs": [
    {
     "name": "stdout",
     "output_type": "stream",
     "text": [
      "15\n"
     ]
    }
   ],
   "source": [
    "# 13).Write a Python program to select an item randomly from a list.\n",
    "\n",
    "import random \n",
    "number_list = [2,5,10,15,25,17,20,27,30] # list\n",
    "print(random.choice(number_list))\n"
   ]
  },
  {
   "cell_type": "code",
   "execution_count": 27,
   "id": "88fe86da",
   "metadata": {},
   "outputs": [
    {
     "name": "stdout",
     "output_type": "stream",
     "text": [
      "Original List :  [5, 10, 15, 20, 25, 30, 35, 40, 45, 50]\n",
      "List of unique numbers :  [35, 5, 40, 10, 45, 15, 50, 20, 25, 30]\n"
     ]
    }
   ],
   "source": [
    "# 14).Write a Python program to find the second smallest number in a list.\n",
    "\n",
    "my_list = [5,10,15,20,25,30,35,40,45,50] # define list\n",
    "print(\"Original List : \",my_list)\n",
    "my_set = set(my_list)\n",
    "my_new_list = list(my_set)\n",
    "print(\"List of unique numbers : \",my_new_list)\n"
   ]
  },
  {
   "cell_type": "code",
   "execution_count": 37,
   "id": "4e4756a1",
   "metadata": {},
   "outputs": [
    {
     "name": "stdout",
     "output_type": "stream",
     "text": [
      "True\n",
      "False\n"
     ]
    }
   ],
   "source": [
    "# 15). Write a Python program to check whether a list contains a sub list.\n",
    "\n",
    "def is_Sublist(l, s): # user deifne function\n",
    "    sub_set = False\n",
    "    if s == []:  \n",
    "        sub_set = True # boolean data type\n",
    "    elif s == l:\n",
    "        sub_set = True\n",
    "    elif len(s) > len(l):\n",
    "        sub_set = False\n",
    "\n",
    "    else:\n",
    "        for i in range(len(l)):\n",
    "            if l[i] == s[0]:\n",
    "                n = 1\n",
    "                while (n < len(s)) and (l[i+n] == s[n]):\n",
    "                    n += 1\n",
    "\n",
    "                if n == len(s):\n",
    "                    sub_set = True\n",
    "\n",
    "    return sub_set\n",
    "\n",
    "a = [2,4,3,5,7]\n",
    "b = [4,3]\n",
    "c = [3,7]\n",
    "print(is_Sublist(a, b))\n",
    "print(is_Sublist(a, c))\n"
   ]
  },
  {
   "cell_type": "code",
   "execution_count": 42,
   "id": "7656efe9",
   "metadata": {},
   "outputs": [
    {
     "name": "stdout",
     "output_type": "stream",
     "text": [
      "('dhaval', 'employee(25,male,surat)')\n",
      "('raj', 'student(22,male,vadodara)')\n",
      "('manish', 'doctor(32,male,rajkot)')\n"
     ]
    }
   ],
   "source": [
    "# 16).Write a Python program to split a list into different variable.\n",
    "\n",
    "items = [(\"dhaval\",\"employee(25,male,surat)\"), (\"raj\", \"student(22,male,vadodara)\"),\n",
    "         (\"manish\",\"doctor(32,male,rajkot)\")] # dictionary list\n",
    "var1, var2, var3 = items\n",
    "print(var1)\n",
    "print(var2)\n",
    "print(var3)\n"
   ]
  },
  {
   "cell_type": "code",
   "execution_count": null,
   "id": "b01024d8",
   "metadata": {},
   "outputs": [],
   "source": [
    "# 17). What is tuple? Difference between list and tuple. \n",
    "#Tuple is used to stor multiple values in single variable.A tuple is a collection which is ordered and unchangeable.\n",
    "\n",
    "# Diffrent between list and tuple\n",
    "\n",
    "#1). List:-\n",
    "#--> List is dynamic\n",
    "#--> list is muttable and it can allowed to duplicate values.\n",
    "#-->list is ordered sequence\n",
    "\n",
    "#2).Tuple:-\n",
    "#--> tuple is similar to list\n",
    "#--> tuple is immutable and it can allowed to duplicate values.\n",
    "#--> tuple is ordered sequence"
   ]
  },
  {
   "cell_type": "code",
   "execution_count": 44,
   "id": "cda9c234",
   "metadata": {},
   "outputs": [
    {
     "name": "stdout",
     "output_type": "stream",
     "text": [
      "('dhaval', 1, 2, 4, 6, 8, 10, 15.3, True)\n"
     ]
    }
   ],
   "source": [
    "# 18). Write a Python program to create a tuple with different data types.\n",
    "\n",
    "t=(\"dhaval\",1,2,4,6,8,10,15.3,True) # create tuple\n",
    "print(t)"
   ]
  },
  {
   "cell_type": "code",
   "execution_count": 45,
   "id": "e2d1cd8b",
   "metadata": {},
   "outputs": [
    {
     "name": "stdout",
     "output_type": "stream",
     "text": [
      "(1, 2, 4, 6, 10, 12, 15, 20, 23, 25, 30)\n",
      "5\n"
     ]
    }
   ],
   "source": [
    "# 19).Write a Python program to create a tuple with numbers.\n",
    "\n",
    "t=(1,2,4,6,10,12,15,20,23,25,30) # create tuple\n",
    "print (t)\n",
    "\n",
    "t=(5)\n",
    "print(t)"
   ]
  },
  {
   "cell_type": "code",
   "execution_count": 47,
   "id": "1a3c02c7",
   "metadata": {},
   "outputs": [
    {
     "name": "stdout",
     "output_type": "stream",
     "text": [
      "dictionary\n"
     ]
    }
   ],
   "source": [
    "# 20). Write a Python program to convert a tuple to a string. \n",
    "\n",
    "t=(\"d\",\"i\",\"c\",\"t\",\"i\",\"o\",\"n\",\"a\",\"r\",\"y\")\n",
    "str= '' .join(t) # using join method\n",
    "print(str)"
   ]
  },
  {
   "cell_type": "code",
   "execution_count": 48,
   "id": "4fc01e0e",
   "metadata": {},
   "outputs": [
    {
     "name": "stdout",
     "output_type": "stream",
     "text": [
      "True\n",
      "False\n"
     ]
    }
   ],
   "source": [
    "# 21).Write a Python program to check whether an element exists within a tuple.\n",
    "\n",
    "t=(\"d\",\"i\",\"c\",\"t\",\"i\",\"o\",\"n\",\"a\",\"r\",\"y\",8) # create tuple\n",
    "print(\"i\" in t)\n",
    "print(6 in t)"
   ]
  },
  {
   "cell_type": "code",
   "execution_count": 49,
   "id": "ff9e60ae",
   "metadata": {},
   "outputs": [
    {
     "name": "stdout",
     "output_type": "stream",
     "text": [
      "('d', 'i', 'c', 't', 'i', 'o', 'n', 'a', 'r', 'y')\n",
      "10\n"
     ]
    }
   ],
   "source": [
    "# 22). Write a Python program to find the length of a tuple.\n",
    "\n",
    "\n",
    "t = tuple(\"dictionary\") #create a tuple\n",
    "print(t)\n",
    "print(len(t)) #use the len() function\n",
    "\n"
   ]
  },
  {
   "cell_type": "code",
   "execution_count": 51,
   "id": "6ba03ff7",
   "metadata": {},
   "outputs": [
    {
     "name": "stdout",
     "output_type": "stream",
     "text": [
      "[5, 10, 7, 4, 15, 3]\n",
      "(5, 10, 7, 4, 15, 3)\n"
     ]
    }
   ],
   "source": [
    "# 23).Write a Python program to convert a list to a tuple.\n",
    "\n",
    "\n",
    "l = [5, 10, 7, 4, 15, 3] #Convert list to tuple\n",
    "print(l)\n",
    "t = tuple(l)  #use the tuple() function built-in Python, passing as parameter the list\n",
    "print(t)\n",
    "\n"
   ]
  },
  {
   "cell_type": "code",
   "execution_count": 53,
   "id": "ecc23f9b",
   "metadata": {},
   "outputs": [
    {
     "name": "stdout",
     "output_type": "stream",
     "text": [
      "('y', 'l', 's', 'u', 'o', 'e', 'n', 'a', 't', 'l', 'u', 'm', 'i', 's')\n"
     ]
    }
   ],
   "source": [
    "# 24).Write a Python program to reverse a tuple.\n",
    "\n",
    "x = (\"simultaneously\") #create a tuple\n",
    "y = reversed(x) # Reversed the tuple\n",
    "print(tuple(y))"
   ]
  },
  {
   "cell_type": "code",
   "execution_count": 54,
   "id": "9ef55b05",
   "metadata": {},
   "outputs": [
    {
     "name": "stdout",
     "output_type": "stream",
     "text": [
      "[(10, 20, 100), (40, 50, 100), (70, 80, 100)]\n"
     ]
    }
   ],
   "source": [
    "# 25). Write a Python program to replace last value of tuples in a list.\n",
    "\n",
    "l = [(10, 20, 40), (40, 50, 60), (70, 80, 90)] # create a list\n",
    "print([t[:-1] + (100,) for t in l])  # replace the tuple\n"
   ]
  },
  {
   "cell_type": "code",
   "execution_count": 60,
   "id": "4a4f4084",
   "metadata": {},
   "outputs": [
    {
     "name": "stdout",
     "output_type": "stream",
     "text": [
      "(2, 4, 5, 6, 2, 3, 4, 4, 7)\n",
      "3\n"
     ]
    }
   ],
   "source": [
    "# 26).Write a Python program to find the repeated items of a tuple.\n",
    "\n",
    "\n",
    "t = (2, 4, 5, 6, 2, 3, 4, 4, 7) #create a tuple\n",
    "print(t)\n",
    "count = t.count(4)  #return the number of times it appears in the tuple.\n",
    "print(count)\n",
    "\n"
   ]
  },
  {
   "cell_type": "code",
   "execution_count": 61,
   "id": "c86491b5",
   "metadata": {},
   "outputs": [
    {
     "name": "stdout",
     "output_type": "stream",
     "text": [
      "[(), (), ('',), ('a', 'b'), ('a', 'b', 'c'), 'd']\n"
     ]
    }
   ],
   "source": [
    "# 27). Write a Python program to remove an empty tuple(s) from a list of tuples.\n",
    "\n",
    "\n",
    "l = [(), (), ('',), ('a', 'b'), ('a', 'b', 'c'), ('d')]\n",
    "L = [t for t in l if t] # create list\n",
    "print(l)\n"
   ]
  },
  {
   "cell_type": "code",
   "execution_count": 63,
   "id": "fd44e0a6",
   "metadata": {},
   "outputs": [
    {
     "name": "stdout",
     "output_type": "stream",
     "text": [
      "[(1, 3, 8, 10), (2, 4, 9, 14)]\n"
     ]
    }
   ],
   "source": [
    "# 28). Write a Python program to unzip a list of tuples into individual lists. \n",
    "\n",
    "\n",
    "l = [(1,2), (3,4), (8,9),(10,14)] #create a tuple\n",
    "print(list(zip(*l))) #using unzip method\n",
    "\n"
   ]
  },
  {
   "cell_type": "code",
   "execution_count": 64,
   "id": "8e348613",
   "metadata": {},
   "outputs": [
    {
     "name": "stdout",
     "output_type": "stream",
     "text": [
      "{'a': [1, 2, 3], 'b': [1, 2, 1]}\n"
     ]
    }
   ],
   "source": [
    "# 29).Write a Python program to convert a list of tuples into a dictionary.\n",
    "\n",
    "l = [(\"a\", 1), (\"a\", 2), (\"a\", 3), (\"b\", 1), (\"b\", 2), (\"b\", 1)]  #create a list\n",
    "d = {}\n",
    "for x, y in l:\n",
    "    d.setdefault(x, []).append(y) # using setdefault and append method\n",
    "print (d)\n"
   ]
  },
  {
   "cell_type": "code",
   "execution_count": 69,
   "id": "01bd5c59",
   "metadata": {},
   "outputs": [
    {
     "name": "stdout",
     "output_type": "stream",
     "text": [
      "The input Tuple: ((1, 'java'), (2, 'Python'), (3, 'kotlin'))\n"
     ]
    }
   ],
   "source": [
    "# 30). How will you create a dictionary using tuples in python?\n",
    "#--> The tuple elements are enclosed inside the parenthesis, while dictionary elements are present in the form of a \n",
    "# key-value pair and are enclosed between curly brackets.\n",
    "\n",
    "# The following are the methods to convert a tuple into a dictionary:-\n",
    "#1).Using dict() function\n",
    "\n",
    "#2).Using Dictionary Comprehension and enumerate() function\n",
    "\n",
    "#3).Using zip() and dict() functions\n",
    "\n",
    "# for an example:-\n",
    "\n",
    "t = ((1, \"java\"), (2, \"Python\"), (3, \"kotlin\"))\n",
    "print(\"The input Tuple:\", t)"
   ]
  },
  {
   "cell_type": "code",
   "execution_count": 74,
   "id": "3d91ed08",
   "metadata": {},
   "outputs": [
    {
     "name": "stdout",
     "output_type": "stream",
     "text": [
      "dictionary :  {1: 2, 3: 4, 5: 6, 10: 15, 0: 0}\n",
      "Dictionary in ascending order by value :  [(0, 0), (1, 2), (3, 4), (5, 6), (10, 15)]\n",
      "Dictionary in descending order by value :  {10: 15, 5: 6, 3: 4, 1: 2, 0: 0}\n"
     ]
    }
   ],
   "source": [
    "# 31). Write a Python script to sort (ascending and descending) a dictionary by value.\n",
    "\n",
    "import operator\n",
    "d = {1: 2, 3: 4, 5: 6, 10: 15, 0: 0} # create dictionary\n",
    "print('dictionary : ',d)\n",
    "sorted_d = sorted(d.items(), key=operator.itemgetter(1))\n",
    "print('Dictionary in ascending order by value : ',sorted_d)\n",
    "sorted_d = dict( sorted(d.items(), key=operator.itemgetter(1),reverse=True))\n",
    "print('Dictionary in descending order by value : ',sorted_d)\n",
    "\n",
    " "
   ]
  },
  {
   "cell_type": "code",
   "execution_count": 77,
   "id": "0b3730ce",
   "metadata": {},
   "outputs": [
    {
     "name": "stdout",
     "output_type": "stream",
     "text": [
      "{1: 10, 2: 20, 3: 30, 4: 40, 5: 50, 6: 60}\n"
     ]
    }
   ],
   "source": [
    "# 32). Write a Python script to concatenate following dictionaries to create a new one.\n",
    "\n",
    "d1={1:10, 2:20} # create dictionary\n",
    "d2={3:30, 4:40}\n",
    "d3={5:50,6:60}\n",
    "d4 = {}\n",
    "for d in (d1, d2, d3): d4.update(d)\n",
    "print(d4)\n",
    "\n"
   ]
  },
  {
   "cell_type": "code",
   "execution_count": 80,
   "id": "7336bd33",
   "metadata": {},
   "outputs": [
    {
     "name": "stdout",
     "output_type": "stream",
     "text": [
      "Key is present in the dictionary\n",
      "Key is not present in the dictionary\n"
     ]
    }
   ],
   "source": [
    "# 33).Write a Python script to check if a given key already exists in a dictionary.\n",
    "d = {1: 10, 2: 20, 3: 30, 4: 40, 5: 50, 6: 60} # create dictionary\n",
    "def key_present(x):\n",
    "    if x in d:\n",
    "        print('Key is present in the dictionary')\n",
    "    else:\n",
    "        print('Key is not present in the dictionary')\n",
    "key_present(5)\n",
    "key_present(9)\n",
    "\n"
   ]
  },
  {
   "cell_type": "code",
   "execution_count": null,
   "id": "0b6fedf9",
   "metadata": {},
   "outputs": [],
   "source": [
    "# 34).How Do You Traverse Through A Dictionary Object In Python? \n",
    "#--> A dictionary is one of the data types available in Python. \n",
    "#-->If we are aware of sets and lists, a dictionary is another data storage simply. \n",
    "#-->For a formal definition, a dictionary is an unordered collection of data stored in the form of values attached to their respective keys.\n"
   ]
  },
  {
   "cell_type": "code",
   "execution_count": null,
   "id": "1aac07f6",
   "metadata": {},
   "outputs": [],
   "source": [
    "# 35).How Do You Check The Presence Of A Key In A Dictionary?\n",
    "#--> Given a dictionary in Python our task is to check whether the given key is already present in the dictionary or not.  \n",
    "#-->If present, print “Present” and the value of the key. Otherwise, print “Not present”. "
   ]
  },
  {
   "cell_type": "code",
   "execution_count": 85,
   "id": "317d8eeb",
   "metadata": {},
   "outputs": [
    {
     "name": "stdout",
     "output_type": "stream",
     "text": [
      "{1: 1, 2: 4, 3: 9, 4: 16, 5: 25, 6: 36, 7: 49, 8: 64, 9: 81, 10: 100, 11: 121, 12: 144, 13: 169, 14: 196, 15: 225}\n"
     ]
    }
   ],
   "source": [
    "# 36).Write a Python script to print a dictionary where the keys are numbers between 1 and 15.\n",
    "\n",
    "d=dict() # create dictionary\n",
    "for a in range(1,16):\n",
    "    d[a]=a**2\n",
    "print(d)  \n",
    "\n",
    "\n",
    "\n"
   ]
  },
  {
   "cell_type": "code",
   "execution_count": 13,
   "id": "55aa8714",
   "metadata": {},
   "outputs": [
    {
     "name": "stdout",
     "output_type": "stream",
     "text": [
      "True\n",
      "False\n",
      "True\n"
     ]
    }
   ],
   "source": [
    "# 37). Write a Python program to check multiple keys exists in a dictionary.\n",
    "employee = {                        # create a dictionary\n",
    "  'name': 'raj',\n",
    "  'class': 'V',\n",
    "  'roll_id': '2'\n",
    "}\n",
    "print(student.keys() >= {'class', 'name'})\n",
    "print(student.keys() >= {'name', 'raj'})\n",
    "print(student.keys() >= {'roll_id', 'name'})\n",
    "\n"
   ]
  },
  {
   "cell_type": "code",
   "execution_count": 20,
   "id": "074cbf44",
   "metadata": {},
   "outputs": [
    {
     "name": "stdout",
     "output_type": "stream",
     "text": [
      "{'a': 10, 'b': 20, 'c': 5, 'd': 15}\n"
     ]
    }
   ],
   "source": [
    "# 38). Write a Python script to merge two Python dictionaries.\n",
    "\n",
    "d1={\"a\":10,\"b\":20} # create a dictionary\n",
    "d2={\"c\":5,\"d\":15}\n",
    "d3={\"e\":20, \"f\":25}\n",
    "\n",
    "d=d1.copy()\n",
    "d.update(d2)\n",
    "print(d)\n",
    "\n",
    "\n",
    "\n"
   ]
  },
  {
   "cell_type": "code",
   "execution_count": 15,
   "id": "3eb1e04e",
   "metadata": {},
   "outputs": [
    {
     "name": "stdout",
     "output_type": "stream",
     "text": [
      "{'name': 'raj', 'age': '22', 'address': 'rajkot', 'profession': 'student'}\n"
     ]
    }
   ],
   "source": [
    "# 39).Write a Python program to map two lists into a dictionary.\n",
    "keys=[\"name\",\"age\",\"address\",\"profession\"] # create a dictionary\n",
    "values=[\"raj\",\"22\",\"rajkot\",\"student\"]\n",
    "detail_d=dict(zip(keys,values))\n",
    "print(detail_d)\n"
   ]
  },
  {
   "cell_type": "code",
   "execution_count": 26,
   "id": "5a89a55a",
   "metadata": {},
   "outputs": [
    {
     "name": "stdout",
     "output_type": "stream",
     "text": [
      "Counter({'a': 400, 'b': 400, 'd': 400, 'c': 300})\n"
     ]
    }
   ],
   "source": [
    "# 40).Write a Python program to combine two dictionary adding values for common keys.\n",
    "from collections import Counter\n",
    "\n",
    "from collections import Counter\n",
    "d1 = {'a': 100, 'b': 200, 'c':300}\n",
    "d2 = {'a': 300, 'b': 200, 'd':400}\n",
    "d = Counter(d1) + Counter(d2)\n",
    "print(d)\n",
    "\n",
    "\n",
    "\n"
   ]
  },
  {
   "cell_type": "code",
   "execution_count": 40,
   "id": "0797ffce",
   "metadata": {},
   "outputs": [
    {
     "name": "stdout",
     "output_type": "stream",
     "text": [
      "list [{'I': 'a001'}, {'II': 'a002'}, {'III': 'a003'}, {'IV': 'a004'}, {'V': 'a005'}, {'VI': 'a006'}]\n",
      "unique values {'a004', 'a001', 'a003', 'a005', 'a006', 'a002'}\n"
     ]
    }
   ],
   "source": [
    "# 41). Write a Python program to print all unique values in a dictionary. \n",
    "L=[{\"I\":\"a001\"},{\"II\":\"a002\"},{\"III\":\"a003\"},{\"IV\":\"a004\"},{\"V\":\"a005\"},{\"VI\":\"a006\"}]\n",
    "print(\"list\",L)\n",
    "u_value = set( val for dic in L for val in dic.values())\n",
    "print(\"unique values\",u_value)"
   ]
  },
  {
   "cell_type": "code",
   "execution_count": null,
   "id": "918bb43d",
   "metadata": {},
   "outputs": [],
   "source": [
    "# 42). Why Do You Use the Zip () Method in Python? \n",
    "#--> The zip() function returns a zip object, which is an iterator of tuples where the first item in each passed iterator is paired together, and \n",
    "#-->then the second item in each passed iterator are paired together."
   ]
  },
  {
   "cell_type": "code",
   "execution_count": 41,
   "id": "8aecc735",
   "metadata": {},
   "outputs": [
    {
     "name": "stdout",
     "output_type": "stream",
     "text": [
      "ac\n",
      "ad\n",
      "bc\n",
      "bd\n"
     ]
    }
   ],
   "source": [
    "#43). Write a Python program to create and display all combinations of letters, \n",
    "#selecting each letter from a different key in a dictionary. \n",
    "\n",
    "import itertools      \n",
    "d ={'1':['a','b'], '2':['c','d']}\n",
    "for combo in itertools.product(*[d[k] for k in sorted(d.keys())]):\n",
    "    print(''.join(combo))\n"
   ]
  },
  {
   "cell_type": "code",
   "execution_count": 49,
   "id": "f2aee754",
   "metadata": {},
   "outputs": [
    {
     "name": "stdout",
     "output_type": "stream",
     "text": [
      "['b', 'f', 'c']\n"
     ]
    }
   ],
   "source": [
    "# 44).Write a Python program to find the highest 3 values in a dictionary.\n",
    "\n",
    "from heapq  import nlargest\n",
    "\n",
    "my_dict = {'a':50, 'b':99, 'c': 78,'d':40, 'e':58, 'f': 93}  # create a dictionary\n",
    "three_largest = nlargest(3, my_dict, key=my_dict.get)\n",
    "print(three_largest) \n"
   ]
  },
  {
   "cell_type": "code",
   "execution_count": 50,
   "id": "fa1a1c7c",
   "metadata": {},
   "outputs": [
    {
     "name": "stdout",
     "output_type": "stream",
     "text": [
      "Counter({'item1': 1150, 'item2': 300})\n"
     ]
    }
   ],
   "source": [
    "# 45).Write a Python program to combine values in python list of dictionaries. Sample data.\n",
    "#  [{'item': 'item1', 'amount': 400}, {'item': 'item2', 'amount': 300}, o {'item': 'item1', 'amount': 750}]\n",
    " \n",
    "\n",
    "from collections import Counter\n",
    "item_list = [{'item': 'item1', 'amount': 400}, {'item': 'item2', 'amount': 300}, {'item': 'item1', 'amount': 750}]\n",
    "result = Counter()\n",
    "for d in item_list:\n",
    "    result[d['item']] += d['amount']\n",
    "print(result) \n"
   ]
  },
  {
   "cell_type": "code",
   "execution_count": 20,
   "id": "98c2b76e",
   "metadata": {},
   "outputs": [
    {
     "name": "stdout",
     "output_type": "stream",
     "text": [
      "{'d': 1, 'i': 2, 'c': 1, 't': 1, 'o': 1, 'n': 1, 'a': 1, 'r': 1, 'y': 1, '2': 1, \"'\": 1}\n"
     ]
    }
   ],
   "source": [
    "# 46). Write a Python program to create a dictionary from a string.\n",
    "\n",
    "from collections import defaultdict, Counter\n",
    "str1 = \"dictionary2'\"\n",
    "my_dict = {}\n",
    "for letter in str1:\n",
    "    my_dict[letter] = my_dict.get(letter, 0) + 1\n",
    "print(my_dict)\n"
   ]
  },
  {
   "cell_type": "code",
   "execution_count": 53,
   "id": "ceae3618",
   "metadata": {},
   "outputs": [
    {
     "name": "stdout",
     "output_type": "stream",
     "text": [
      "Enter the number\n",
      "4\n",
      "The factorial of 4 is 24\n"
     ]
    }
   ],
   "source": [
    "# 47).Write a Python function to calculate the factorial of a number (a nonnegative integer).\n",
    "\n",
    "num = int(input(\"Enter the number\\n\"))\n",
    "factorial = 1\n",
    "\n",
    "if num < 0:\n",
    "    print(\"Sorry, factorial does not exist for negative numbers\")\n",
    "elif num == 0:\n",
    "    print(\"The factorial of 0 is 1\")\n",
    "else:\n",
    "    for i in range(1,num + 1):\n",
    "        factorial = factorial*i#formula of factorial\n",
    "    print(\"The factorial of\",num,\"is\",factorial)\n"
   ]
  },
  {
   "cell_type": "code",
   "execution_count": 59,
   "id": "3caa5da1",
   "metadata": {},
   "outputs": [
    {
     "name": "stdout",
     "output_type": "stream",
     "text": [
      " 5 is in the range\n"
     ]
    }
   ],
   "source": [
    "# 48).Write a Python function to check whether a number is in a given range.\n",
    "\n",
    "def check_range(num):\n",
    "    if num in range(3,9):\n",
    "        print( \" %s is in the range\"%str(num))\n",
    "    else :\n",
    "        print(\"The number is outside the given range.\")\n",
    "check_range(5)\n"
   ]
  },
  {
   "cell_type": "code",
   "execution_count": 61,
   "id": "33315570",
   "metadata": {},
   "outputs": [
    {
     "name": "stdout",
     "output_type": "stream",
     "text": [
      "True\n"
     ]
    }
   ],
   "source": [
    "# 50).Write a Python function to check whether a number is perfect or not.\n",
    "\n",
    "def perfect_number(n):\n",
    "    sum = 0\n",
    "    for x in range(1, n):\n",
    "        if n % x == 0:\n",
    "            sum += x\n",
    "    return sum == n\n",
    "print(perfect_number(6))\n"
   ]
  },
  {
   "cell_type": "code",
   "execution_count": 41,
   "id": "fe44b6e2",
   "metadata": {},
   "outputs": [
    {
     "name": "stdout",
     "output_type": "stream",
     "text": [
      "False\n"
     ]
    }
   ],
   "source": [
    "# 51). Write a Python function that checks whether a passed string is palindrome or not.\n",
    "\n",
    "def Palindrome(string):\n",
    "    left_pos = 0\n",
    "    right_pos = len(string) - 1\n",
    "\n",
    "    while right_pos >= left_pos:\n",
    "        if not string[left_pos] == string[right_pos]:\n",
    "            return False\n",
    "        left_pos += 1\n",
    "        right_pos -= 1\n",
    "    return True\n",
    "print(Palindrome('dhaval')) \n",
    "\n",
    "\n",
    "\n"
   ]
  },
  {
   "cell_type": "code",
   "execution_count": null,
   "id": "7e2bdb93",
   "metadata": {},
   "outputs": [],
   "source": [
    "# 52).How Many Basic Types Of Functions Are Available In Python? \n",
    "#--> There are two types of functions available in python. These are:\n",
    "\n",
    "# 1).Built-in Functions or Pre-defined\n",
    "# 2).User-defined Functions"
   ]
  },
  {
   "cell_type": "code",
   "execution_count": 5,
   "id": "ffcb4be4",
   "metadata": {},
   "outputs": [
    {
     "name": "stdout",
     "output_type": "stream",
     "text": [
      "The given input tuple:  (30, 10, 'TutorialsPoint', 20, 'python', 'code')\n",
      "The generated random tuple item =  30\n"
     ]
    }
   ],
   "source": [
    "# 53). How can you pick a random item from a list or tuple?\n",
    "#--> Generate a random item from the tuple using random. choice() method(This function returns a random element from the specified sequence i.e tuple here) by passing the input tuple as an argument to the choice() function. \n",
    "# Print the generated random tuple item.\n",
    "\n",
    "# for an example:-\n",
    "import random\n",
    "\n",
    "t = (30, 10, \"TutorialsPoint\", 20, \"python\", \"code\") #create  tuple\n",
    "print(\"The given input tuple: \", t)\n",
    "randomItem = random.choice(t)\n",
    "print(\"The generated random tuple item = \", randomItem)\n",
    "\n"
   ]
  },
  {
   "cell_type": "code",
   "execution_count": 10,
   "id": "e367c0e0",
   "metadata": {},
   "outputs": [
    {
     "name": "stdout",
     "output_type": "stream",
     "text": [
      "Random Numbers from 1 to 50 are:\n",
      "29\n",
      "35\n"
     ]
    }
   ],
   "source": [
    "#54). How can you pick a random item from a range? \n",
    "#--> Use the random.randrange() function(Returns a random number within the specified range) \n",
    "#-->to generate a random number within the given range by passing minimum, and maximum numbers as arguments.\n",
    "\n",
    "#-->Generate a random number from 1 to 50 alternatively(step-2) by passing start, stop and step values as arguments to the randrange() function.\n",
    "\n",
    "#for an example:-\n",
    "\n",
    "import random\n",
    "print('Random Numbers from 1 to 50 are:')\n",
    "\n",
    "\n",
    "x=random.randrange(1,50) #random number from 1 to 50\n",
    "print(x)\n",
    "\n",
    "y=random.randrange(1,50,2)\n",
    "print(y)"
   ]
  },
  {
   "cell_type": "code",
   "execution_count": 11,
   "id": "8811ca39",
   "metadata": {},
   "outputs": [
    {
     "name": "stdout",
     "output_type": "stream",
     "text": [
      "9\n"
     ]
    }
   ],
   "source": [
    "# 55).How can you get a random number in python? \n",
    "#--> o generate random number in Python, randint() function is used. This function is defined in random module.\n",
    "#for an example:-\n",
    "import random\n",
    " \n",
    "list1 = [1, 2, 3, 4, 5, 6,7,8,9,10] # prints a random value from the list\n",
    "print(random.choice(list1))"
   ]
  },
  {
   "cell_type": "code",
   "execution_count": 2,
   "id": "0ca7f8e8",
   "metadata": {},
   "outputs": [
    {
     "name": "stdout",
     "output_type": "stream",
     "text": [
      "865\n"
     ]
    }
   ],
   "source": [
    "# 56).How will you set the starting value in generating random numbers? \n",
    "#-->  The random number generator needs a number to start with (a seed value), to be able to generate a random number.\n",
    "#--> By default the random number generator uses the current system time.\n",
    "#--> Use the seed() method to customize the start number of the random number generator.\n",
    "# for an example:-\n",
    "\n",
    "# random module is imported\n",
    "import random\n",
    "for i in range(5):\n",
    "\n",
    "     random.seed(0) # Any number can be used in place of '0'.\n",
    "\n",
    "print(random.randint(1, 1000))\n",
    "\n"
   ]
  },
  {
   "cell_type": "code",
   "execution_count": 6,
   "id": "a47ae568",
   "metadata": {},
   "outputs": [],
   "source": [
    "# 57).How will you set the starting value in generating random numbers?\n",
    "#--> The random number generator needs a number to start with (a seed value), to be able to generate a random number.\n",
    "#--> By default the random number generator uses the current system time.\n",
    "\n",
    "\n",
    "\n"
   ]
  },
  {
   "cell_type": "code",
   "execution_count": 24,
   "id": "c9421a87",
   "metadata": {},
   "outputs": [
    {
     "name": "stdout",
     "output_type": "stream",
     "text": [
      "Reshuffled list :  [20, 30, 40, 10]\n"
     ]
    }
   ],
   "source": [
    "# 58). How will you randomizes the items of a list in place?\n",
    "#--> The shuffle() method randomizes the items of a list in place.\n",
    "\n",
    "import random\n",
    "\n",
    "list = [10,20,30,40]\n",
    "random.shuffle(list)\n",
    "print (\"Reshuffled list : \",  list)"
   ]
  },
  {
   "cell_type": "code",
   "execution_count": 14,
   "id": "329c396b",
   "metadata": {},
   "outputs": [
    {
     "name": "stdout",
     "output_type": "stream",
     "text": [
      "From stephen.marquard@uct.ac.za Sat Jan  5 09:14:16 2008\n"
     ]
    }
   ],
   "source": [
    "# 59). Write a Python program to read a random line from a file. \n",
    "\n",
    "import random\n",
    "def random_line(fname):\n",
    "    lines = open(fname).read().splitlines()\n",
    "    return random.choice(lines)\n",
    "print(random_line('word.txt'))\n",
    "\n",
    "\n",
    "\n",
    "\n"
   ]
  },
  {
   "cell_type": "markdown",
   "id": "98ef812a",
   "metadata": {},
   "source": []
  },
  {
   "cell_type": "code",
   "execution_count": 25,
   "id": "fca628fd",
   "metadata": {},
   "outputs": [
    {
     "name": "stdout",
     "output_type": "stream",
     "text": [
      "Input degrees: 23\n",
      "0.4015873015873016\n"
     ]
    }
   ],
   "source": [
    "\n",
    "# 60).Write a Python program to convert degree to radian.\n",
    "\n",
    "pi=22/7\n",
    "degree = float(input(\"Input degrees: \"))\n",
    "radian = degree*(pi/180)\n",
    "print(radian)\n",
    "\n"
   ]
  },
  {
   "cell_type": "code",
   "execution_count": 26,
   "id": "b8ef406c",
   "metadata": {},
   "outputs": [
    {
     "name": "stdout",
     "output_type": "stream",
     "text": [
      "Height of trapezoid: 45\n",
      "Base one value: 12\n",
      "Base two value: 45\n",
      "Area is: 1282.5\n"
     ]
    }
   ],
   "source": [
    "# 61). Write a Python program to calculate the area of a trapezoid.\n",
    "\n",
    "base_1 = 5\n",
    "base_2 = 6\n",
    "height = float(input(\"Height of trapezoid: \"))\n",
    "base_1 = float(input('Base one value: '))\n",
    "base_2 = float(input('Base two value: '))\n",
    "area = ((base_1 + base_2) / 2) * height\n",
    "print(\"Area is:\", area)\n"
   ]
  },
  {
   "cell_type": "code",
   "execution_count": 27,
   "id": "43a1fde8",
   "metadata": {},
   "outputs": [
    {
     "name": "stdout",
     "output_type": "stream",
     "text": [
      "Length of base: 34\n",
      "Measurement of height: 67\n",
      "Area is:  2278.0\n"
     ]
    }
   ],
   "source": [
    "# 62).Write a Python program to calculate the area of a parallelogram.\n",
    "\n",
    "base = float(input('Length of base: '))\n",
    "height = float(input('Measure of height: '))\n",
    "area = base * height\n",
    "print(\"Area is: \", area)\n",
    "\n"
   ]
  },
  {
   "cell_type": "code",
   "execution_count": 28,
   "id": "decfd398",
   "metadata": {},
   "outputs": [
    {
     "name": "stdout",
     "output_type": "stream",
     "text": [
      "Height of cylinder: 12\n",
      "Radius of cylinder: 45\n",
      "Volume is:  76371.42857142857\n",
      "Surface Area is:  16122.857142857141\n"
     ]
    }
   ],
   "source": [
    "# 63). Write a Python program to calculate surface volume and area of a cylinder.\n",
    "\n",
    "pi=22/7\n",
    "height = float(input('Height of cylinder: '))\n",
    "radian = float(input('Radius of cylinder: '))\n",
    "volume = pi * radian * radian * height\n",
    "sur_area = ((2*pi*radian) * height) + ((pi*radian**2)*2)\n",
    "print(\"Volume is: \", volume)\n",
    "print(\"Surface Area is: \", sur_area)\n",
    "\n"
   ]
  },
  {
   "cell_type": "code",
   "execution_count": 29,
   "id": "a60ca806",
   "metadata": {},
   "outputs": [
    {
     "name": "stdout",
     "output_type": "stream",
     "text": [
      "7\n",
      "16\n"
     ]
    }
   ],
   "source": [
    "# 64).Write a Python program to returns sum of all divisors of a number\n",
    "\n",
    "def sum_div(number):\n",
    "    divisors = [1]\n",
    "    for i in range(2, number):\n",
    "        if (number % i)==0:\n",
    "            divisors.append(i)\n",
    "    return sum(divisors)\n",
    "print(sum_div(8))\n",
    "print(sum_div(12))\n"
   ]
  },
  {
   "cell_type": "code",
   "execution_count": 30,
   "id": "971a2cfa",
   "metadata": {},
   "outputs": [
    {
     "name": "stdout",
     "output_type": "stream",
     "text": [
      "Maximum:  7.25\n",
      "Minimum:  0.04\n"
     ]
    }
   ],
   "source": [
    "# 65). Write a Python program to find the maximum and minimum numbers from the specified decimal numbers.\n",
    " \n",
    "\n",
    "from decimal import *\n",
    "value = list(map(Decimal, '2.45 2.69 2.45 3.45 2.00 0.04 7.25'.split()))\n",
    "print(\"Maximum: \", max(value))\n",
    "print(\"Minimum: \", min(value))\n"
   ]
  }
 ],
 "metadata": {
  "kernelspec": {
   "display_name": "Python 3 (ipykernel)",
   "language": "python",
   "name": "python3"
  },
  "language_info": {
   "codemirror_mode": {
    "name": "ipython",
    "version": 3
   },
   "file_extension": ".py",
   "mimetype": "text/x-python",
   "name": "python",
   "nbconvert_exporter": "python",
   "pygments_lexer": "ipython3",
   "version": "3.10.9"
  }
 },
 "nbformat": 4,
 "nbformat_minor": 5
}
